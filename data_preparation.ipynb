version https://git-lfs.github.com/spec/v1
oid sha256:4e6bc3139d1891500ee57397f9390f83eafd32899f1a0acbbc9a59d25e290b44
size 243677
