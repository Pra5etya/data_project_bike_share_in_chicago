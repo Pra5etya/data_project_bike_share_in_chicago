version https://git-lfs.github.com/spec/v1
oid sha256:214c2ef61b49893b7bf22b5d4c394be34ea15abbe5364f6320411890b87a0c19
size 33000
