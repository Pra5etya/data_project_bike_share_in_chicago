version https://git-lfs.github.com/spec/v1
oid sha256:7e898f3a00d6110a1ae0ccfc2698ae498b5a9339fe3085ff172e327970e3e61c
size 2710
