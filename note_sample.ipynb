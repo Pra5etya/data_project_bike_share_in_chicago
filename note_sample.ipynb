version https://git-lfs.github.com/spec/v1
oid sha256:29a909c50f3c3df77f430a6d92ced3a5907f0f64b6063c1225d9c03d6932c0dc
size 10197
