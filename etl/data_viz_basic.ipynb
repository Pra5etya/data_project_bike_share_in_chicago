version https://git-lfs.github.com/spec/v1
oid sha256:44050ac571ab96301e40cf1b80f354e4323c475865bbc8f1466ebc363b1fb5b2
size 323185
